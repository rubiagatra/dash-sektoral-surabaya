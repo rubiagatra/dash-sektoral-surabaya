{
 "cells": [
  {
   "cell_type": "code",
   "execution_count": 1,
   "metadata": {},
   "outputs": [],
   "source": [
    "import pandas as pd"
   ]
  },
  {
   "cell_type": "code",
   "execution_count": 9,
   "metadata": {},
   "outputs": [],
   "source": [
    "df = pd.read_csv(\"../data/Bab 1_Geografis_v2.0_2016.csv\")"
   ]
  },
  {
   "cell_type": "code",
   "execution_count": 10,
   "metadata": {},
   "outputs": [
    {
     "data": {
      "text/html": [
       "<div>\n",
       "<style scoped>\n",
       "    .dataframe tbody tr th:only-of-type {\n",
       "        vertical-align: middle;\n",
       "    }\n",
       "\n",
       "    .dataframe tbody tr th {\n",
       "        vertical-align: top;\n",
       "    }\n",
       "\n",
       "    .dataframe thead th {\n",
       "        text-align: right;\n",
       "    }\n",
       "</style>\n",
       "<table border=\"1\" class=\"dataframe\">\n",
       "  <thead>\n",
       "    <tr style=\"text-align: right;\">\n",
       "      <th></th>\n",
       "      <th>Bulan</th>\n",
       "      <th>Maksimal Kelembaban (%) di Juanda</th>\n",
       "      <th>Minimal Kelembaban (%) di Juanda</th>\n",
       "      <th>Maksimal Tekanan Udara (Mbs) di Juanda</th>\n",
       "      <th>Minimal Tekanan Udara (Mbs) di Juanda</th>\n",
       "      <th>Maksimal Temperatur (Celcius)  di Juanda</th>\n",
       "      <th>Minimal Temperatur (Celcius)  di Juanda</th>\n",
       "      <th>Rata-rata Kelembaban (%) di Tanjung Perak</th>\n",
       "      <th>Rata-rata Tekanan Udara (Mbs) di Tanjung Perak</th>\n",
       "      <th>Rata-rata Temperatur (Celcius) di Tanjung Perak</th>\n",
       "    </tr>\n",
       "  </thead>\n",
       "  <tbody>\n",
       "    <tr>\n",
       "      <th>0</th>\n",
       "      <td>Januari</td>\n",
       "      <td>97.0</td>\n",
       "      <td>52.0</td>\n",
       "      <td>1013.9</td>\n",
       "      <td>1008.8</td>\n",
       "      <td>35.4</td>\n",
       "      <td>23.5</td>\n",
       "      <td>76</td>\n",
       "      <td>1010.9</td>\n",
       "      <td>29.7</td>\n",
       "    </tr>\n",
       "    <tr>\n",
       "      <th>1</th>\n",
       "      <td>Pebruari</td>\n",
       "      <td>98.0</td>\n",
       "      <td>58.0</td>\n",
       "      <td>1013.2</td>\n",
       "      <td>1008.7</td>\n",
       "      <td>34.0</td>\n",
       "      <td>24.1</td>\n",
       "      <td>81</td>\n",
       "      <td>1010.5</td>\n",
       "      <td>29.1</td>\n",
       "    </tr>\n",
       "    <tr>\n",
       "      <th>2</th>\n",
       "      <td>Maret</td>\n",
       "      <td>97.0</td>\n",
       "      <td>58.0</td>\n",
       "      <td>1013.7</td>\n",
       "      <td>1008.8</td>\n",
       "      <td>34.3</td>\n",
       "      <td>20.4</td>\n",
       "      <td>77</td>\n",
       "      <td>1010.7</td>\n",
       "      <td>30.0</td>\n",
       "    </tr>\n",
       "    <tr>\n",
       "      <th>3</th>\n",
       "      <td>April</td>\n",
       "      <td>97.0</td>\n",
       "      <td>58.0</td>\n",
       "      <td>1012.5</td>\n",
       "      <td>1009.7</td>\n",
       "      <td>34.4</td>\n",
       "      <td>24.2</td>\n",
       "      <td>80</td>\n",
       "      <td>1010.3</td>\n",
       "      <td>29.6</td>\n",
       "    </tr>\n",
       "    <tr>\n",
       "      <th>4</th>\n",
       "      <td>Mei</td>\n",
       "      <td>95.0</td>\n",
       "      <td>57.0</td>\n",
       "      <td>1012.2</td>\n",
       "      <td>1008.3</td>\n",
       "      <td>33.7</td>\n",
       "      <td>23.6</td>\n",
       "      <td>78</td>\n",
       "      <td>1009.7</td>\n",
       "      <td>30.1</td>\n",
       "    </tr>\n",
       "  </tbody>\n",
       "</table>\n",
       "</div>"
      ],
      "text/plain": [
       "      Bulan  Maksimal Kelembaban (%) di Juanda  \\\n",
       "0   Januari                               97.0   \n",
       "1  Pebruari                               98.0   \n",
       "2     Maret                               97.0   \n",
       "3     April                               97.0   \n",
       "4       Mei                               95.0   \n",
       "\n",
       "   Minimal Kelembaban (%) di Juanda  Maksimal Tekanan Udara (Mbs) di Juanda  \\\n",
       "0                              52.0                                  1013.9   \n",
       "1                              58.0                                  1013.2   \n",
       "2                              58.0                                  1013.7   \n",
       "3                              58.0                                  1012.5   \n",
       "4                              57.0                                  1012.2   \n",
       "\n",
       "   Minimal Tekanan Udara (Mbs) di Juanda  \\\n",
       "0                                 1008.8   \n",
       "1                                 1008.7   \n",
       "2                                 1008.8   \n",
       "3                                 1009.7   \n",
       "4                                 1008.3   \n",
       "\n",
       "   Maksimal Temperatur (Celcius)  di Juanda  \\\n",
       "0                                      35.4   \n",
       "1                                      34.0   \n",
       "2                                      34.3   \n",
       "3                                      34.4   \n",
       "4                                      33.7   \n",
       "\n",
       "   Minimal Temperatur (Celcius)  di Juanda  \\\n",
       "0                                     23.5   \n",
       "1                                     24.1   \n",
       "2                                     20.4   \n",
       "3                                     24.2   \n",
       "4                                     23.6   \n",
       "\n",
       "   Rata-rata Kelembaban (%) di Tanjung Perak  \\\n",
       "0                                         76   \n",
       "1                                         81   \n",
       "2                                         77   \n",
       "3                                         80   \n",
       "4                                         78   \n",
       "\n",
       "   Rata-rata Tekanan Udara (Mbs) di Tanjung Perak  \\\n",
       "0                                          1010.9   \n",
       "1                                          1010.5   \n",
       "2                                          1010.7   \n",
       "3                                          1010.3   \n",
       "4                                          1009.7   \n",
       "\n",
       "   Rata-rata Temperatur (Celcius) di Tanjung Perak  \n",
       "0                                             29.7  \n",
       "1                                             29.1  \n",
       "2                                             30.0  \n",
       "3                                             29.6  \n",
       "4                                             30.1  "
      ]
     },
     "execution_count": 10,
     "metadata": {},
     "output_type": "execute_result"
    }
   ],
   "source": [
    "df.head()"
   ]
  },
  {
   "cell_type": "code",
   "execution_count": 13,
   "metadata": {},
   "outputs": [
    {
     "data": {
      "text/plain": [
       "Index(['Bulan', 'Maksimal Kelembaban (%) di Juanda',\n",
       "       'Minimal Kelembaban (%) di Juanda',\n",
       "       'Maksimal Tekanan Udara (Mbs) di Juanda',\n",
       "       'Minimal Tekanan Udara (Mbs) di Juanda',\n",
       "       'Maksimal Temperatur (Celcius)  di Juanda',\n",
       "       'Minimal Temperatur (Celcius)  di Juanda',\n",
       "       'Rata-rata Kelembaban (%) di Tanjung Perak',\n",
       "       'Rata-rata Tekanan Udara (Mbs) di Tanjung Perak',\n",
       "       'Rata-rata Temperatur (Celcius) di Tanjung Perak'],\n",
       "      dtype='object')"
      ]
     },
     "execution_count": 13,
     "metadata": {},
     "output_type": "execute_result"
    }
   ],
   "source": [
    "df.columns"
   ]
  },
  {
   "cell_type": "code",
   "execution_count": 14,
   "metadata": {},
   "outputs": [
    {
     "data": {
      "text/plain": [
       "0     35.4\n",
       "1     34.0\n",
       "2     34.3\n",
       "3     34.4\n",
       "4     33.7\n",
       "5     33.0\n",
       "6     32.2\n",
       "7     32.6\n",
       "8     33.4\n",
       "9     34.3\n",
       "10    35.6\n",
       "11    35.4\n",
       "12    34.0\n",
       "Name: Maksimal Temperatur (Celcius)  di Juanda, dtype: float64"
      ]
     },
     "execution_count": 14,
     "metadata": {},
     "output_type": "execute_result"
    }
   ],
   "source": [
    "df['Maksimal Temperatur (Celcius)  di Juanda']"
   ]
  },
  {
   "cell_type": "code",
   "execution_count": null,
   "metadata": {},
   "outputs": [],
   "source": []
  }
 ],
 "metadata": {
  "kernelspec": {
   "display_name": "Python 3",
   "language": "python",
   "name": "python3"
  },
  "language_info": {
   "codemirror_mode": {
    "name": "ipython",
    "version": 3
   },
   "file_extension": ".py",
   "mimetype": "text/x-python",
   "name": "python",
   "nbconvert_exporter": "python",
   "pygments_lexer": "ipython3",
   "version": "3.6.4"
  }
 },
 "nbformat": 4,
 "nbformat_minor": 2
}
